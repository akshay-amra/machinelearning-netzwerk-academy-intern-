{
 "cells": [
  {
   "cell_type": "markdown",
   "metadata": {},
   "source": [
    "## Pca"
   ]
  },
  {
   "cell_type": "code",
   "execution_count": null,
   "metadata": {},
   "outputs": [],
   "source": [
    "pca = PCA(n_components = 2)\n",
    "principal_components = pca.fit_transform(X)\n",
    "principal_DF = pd.DataFrame(data = principal_components, columns = ['component1', 'component2'])\n",
    "final_DF = pd.concat( [principal_DF, mnist_train[['label']]], axis = 1)"
   ]
  },
  {
   "cell_type": "code",
   "execution_count": null,
   "metadata": {},
   "outputs": [],
   "source": [
    "fig = plt.figure(figsize = (8,8))\n",
    "ax = plt.subplot(1,1,1)\n",
    "ax.set_xlabel('Principal Component 1', fontsize = 15)\n",
    "ax.set_ylabel('Principal Component 2', fontsize = 15)\n",
    "ax.set_title('2D visualization of MNIST Data using PCA', fontsize = 20)\n",
    "\n",
    "targets = list(mnist_train['label'].unique())\n",
    "random.seed(10)\n",
    "colors = []\n",
    "for i in range(10):\n",
    "    colors.append('#%06X' % randint(0, 0xFFFFFF))\n",
    "print(colors)\n",
    "for target, color in zip(targets,colors):\n",
    "    indicesToKeep = final_DF['label'] == target\n",
    "    ax.scatter(final_DF.loc[indicesToKeep, 'component1'], final_DF.loc[indicesToKeep,'component2'], c = color, s=50)\n",
    "ax.legend(targets)\n",
    "ax.grid()\n"
   ]
  },
  {
   "cell_type": "markdown",
   "metadata": {},
   "source": [
    "## Train_test_split"
   ]
  },
  {
   "cell_type": "code",
   "execution_count": null,
   "metadata": {},
   "outputs": [],
   "source": [
    "X_1, X_test, y_1, y_test = train_test_split(X,y,test_size = 0.25, random_state = 10)\n",
    "X_train, X_cv, y_train, y_cv = train_test_split(X_1,y_1,test_size = 0.20, random_state = 10)\n",
    "print(X_train.shape, X_test.shape, X_cv. shape, y_train.shape, y_test.shape, y_cv.shape)"
   ]
  },
  {
   "cell_type": "markdown",
   "metadata": {},
   "source": [
    "## KNN"
   ]
  },
  {
   "cell_type": "code",
   "execution_count": null,
   "metadata": {},
   "outputs": [],
   "source": [
    "def trainKNN(X_train, y_train, k): \n",
    "    \"\"\"Function to train model using KNN classifier\n",
    "    Takes argumenst as training dataset, k-value and returns classifier\n",
    "    \"\"\"\n",
    "    classifier = KNeighborsClassifier(n_neighbors=k, n_jobs = -1)\n",
    "    classifier.fit(X_train,y_train)\n",
    "    return classifier"
   ]
  },
  {
   "cell_type": "code",
   "execution_count": null,
   "metadata": {},
   "outputs": [],
   "source": [
    "def predictClassifier(X_test, classifier):\n",
    "    \"\"\"Function to predict labels using classifier\n",
    "       Takes argumenst as test/cv dataset, and returns predicted values by model\n",
    "    \"\"\"\n",
    "    y_pred = classifier.predict(X_test)\n",
    "    return y_pred"
   ]
  },
  {
   "cell_type": "code",
   "execution_count": null,
   "metadata": {},
   "outputs": [],
   "source": [
    "def calculateAccuracy(y_pred, y_test):\n",
    "    \"\"\"Function to check accuracy of the model. Takes input arguments as actual and predicted values\n",
    "       and returns accuracy score\n",
    "    \"\"\"\n",
    "    accuracy = accuracy_score(y_pred, y_test)\n",
    "    return accuracy"
   ]
  },
  {
   "cell_type": "code",
   "execution_count": null,
   "metadata": {},
   "outputs": [],
   "source": [
    "kvalues = [x for x in range(1,50, 6)]\n",
    "AccuracyList = []\n",
    "for k in tqdm(kvalues):\n",
    "    knnClassifier = trainKNN(X_train, y_train, k)\n",
    "    y_pred = predictClassifier(X_cv, knnClassifier)\n",
    "    acc = calculateAccuracy(y_pred, y_cv)\n",
    "    AccuracyList.append(acc)     "
   ]
  },
  {
   "cell_type": "code",
   "execution_count": null,
   "metadata": {},
   "outputs": [],
   "source": [
    "clf = trainKNN(X_train,y_train, 9)\n",
    "y_pred = predictClassifier(X_test, knnClassifier)\n",
    "acc = calculateAccuracy(y_pred, y_test)\n",
    "print(\"Final Accuracy: \",acc)"
   ]
  },
  {
   "cell_type": "markdown",
   "metadata": {},
   "source": [
    "## Confusion matrix"
   ]
  },
  {
   "cell_type": "code",
   "execution_count": null,
   "metadata": {},
   "outputs": [],
   "source": [
    "num_digits= np.unique(y)\n",
    "cf = confusion_matrix(y_pred,y_test, labels = num_digits )\n",
    "print(\"################# Confusion Matrix ####################\")\n",
    "fig = plt.figure(figsize = (13,10))\n",
    "ax= plt.subplot()\n",
    "sns.heatmap(cf, annot=True, ax = ax); #annot=True to annotate cells\n"
   ]
  },
  {
   "cell_type": "markdown",
   "metadata": {},
   "source": [
    "## Svm"
   ]
  },
  {
   "cell_type": "markdown",
   "metadata": {},
   "source": [
    "## Grid search"
   ]
  },
  {
   "cell_type": "code",
   "execution_count": null,
   "metadata": {},
   "outputs": [],
   "source": [
    "model_to_set = OneVsRestClassifier(SVC())\n",
    "parameters = {\n",
    "    \"estimator__C\": [2**x for x in range(-2,2,1)],\n",
    "    \"estimator__kernel\": [\"linear\",\"poly\",\"rbf\"],\n",
    "    \"estimator__degree\":[10**x for x in range(-2,2,1)],\n",
    "}\n",
    "\n",
    "model_tunning = GridSearchCV(model_to_set, param_grid=parameters,scoring = \"accuracy\",cv = 4, verbose = 100)\n",
    "model_tunning.fit(X_1, y_1)"
   ]
  },
  {
   "cell_type": "code",
   "execution_count": null,
   "metadata": {},
   "outputs": [],
   "source": [
    "model_tunning.best_estimator_\n",
    "model_tunning.best_score_"
   ]
  },
  {
   "cell_type": "code",
   "execution_count": null,
   "metadata": {},
   "outputs": [],
   "source": [
    "#basic svm"
   ]
  },
  {
   "cell_type": "code",
   "execution_count": null,
   "metadata": {},
   "outputs": [],
   "source": [
    "clf = SVC(C=10, gamma=0.001, kernel=\"rbf\")\n",
    "clf.fit(X_1, y_1)"
   ]
  },
  {
   "cell_type": "code",
   "execution_count": null,
   "metadata": {},
   "outputs": [],
   "source": [
    "y_pred = predictClassifier(X_test,clf)\n",
    "acc = calculateAccuracy(y_pred, y_test)\n",
    "print(\"Final Accuracy: \",acc)"
   ]
  },
  {
   "cell_type": "markdown",
   "metadata": {},
   "source": [
    "## Linear regression"
   ]
  },
  {
   "cell_type": "code",
   "execution_count": null,
   "metadata": {},
   "outputs": [],
   "source": [
    "from sklearn.linear_model import LinearRegression"
   ]
  },
  {
   "cell_type": "code",
   "execution_count": null,
   "metadata": {},
   "outputs": [],
   "source": [
    "y = googledata['Category']\n",
    "x = googledata[['App']]"
   ]
  },
  {
   "cell_type": "code",
   "execution_count": null,
   "metadata": {},
   "outputs": [],
   "source": [
    "lm2 =LinearRegression()"
   ]
  },
  {
   "cell_type": "code",
   "execution_count": null,
   "metadata": {},
   "outputs": [],
   "source": [
    "lm2.fit(x,y)"
   ]
  },
  {
   "cell_type": "code",
   "execution_count": null,
   "metadata": {},
   "outputs": [],
   "source": [
    "print(lm2.intercept_,lm2.coef_)"
   ]
  },
  {
   "cell_type": "code",
   "execution_count": null,
   "metadata": {},
   "outputs": [],
   "source": [
    "lm2.predict(x)"
   ]
  },
  {
   "cell_type": "code",
   "execution_count": null,
   "metadata": {},
   "outputs": [],
   "source": [
    "sns.jointplot(x=googledata[\"App\"], y = googledata[\"Rating\"], data =googledata, kind = 'reg')"
   ]
  },
  {
   "cell_type": "code",
   "execution_count": null,
   "metadata": {},
   "outputs": [],
   "source": [
    "x_multi = googledata.drop(\"Category\",axis = 1)\n",
    "y_multi = googledata[\"Category\"]"
   ]
  },
  {
   "cell_type": "code",
   "execution_count": null,
   "metadata": {},
   "outputs": [],
   "source": [
    "x_multi_cons = sn.add_constant(x_multi)"
   ]
  },
  {
   "cell_type": "code",
   "execution_count": null,
   "metadata": {},
   "outputs": [],
   "source": [
    "x_multi_cons.head()"
   ]
  },
  {
   "cell_type": "code",
   "execution_count": null,
   "metadata": {},
   "outputs": [],
   "source": [
    "lm_multi = sn.OLS(y_multi, x_multi_cons).fit()"
   ]
  },
  {
   "cell_type": "code",
   "execution_count": null,
   "metadata": {},
   "outputs": [],
   "source": [
    "lm3 = LinearRegression()"
   ]
  },
  {
   "cell_type": "code",
   "execution_count": null,
   "metadata": {},
   "outputs": [],
   "source": [
    "lm3.fit(x_multi,y_multi)"
   ]
  },
  {
   "cell_type": "code",
   "execution_count": null,
   "metadata": {},
   "outputs": [],
   "source": []
  },
  {
   "cell_type": "markdown",
   "metadata": {},
   "source": [
    "## Logistic regression"
   ]
  },
  {
   "cell_type": "code",
   "execution_count": null,
   "metadata": {},
   "outputs": [],
   "source": [
    "logistic = LogisticRegression(solver='saga', tol=1e-3,n_jobs=-1,multi_class = \"multinomial\")\n",
    "randVals = []\n",
    "for i in range(4):\n",
    "    randVals.append(random.uniform(0,4))\n",
    "distributions = dict(C=randVals, penalty=['l2', 'l1'])\n",
    "clf = RandomizedSearchCV(logistic, distributions, random_state=0, verbose = 1000)\n",
    "search = clf.fit(X_1, y_1)"
   ]
  },
  {
   "cell_type": "code",
   "execution_count": null,
   "metadata": {},
   "outputs": [],
   "source": [
    "print(clf.best_estimator_)\n",
    "print(clf.best_score_)"
   ]
  },
  {
   "cell_type": "code",
   "execution_count": null,
   "metadata": {},
   "outputs": [],
   "source": [
    "best_clf = clf.best_estimator_\n",
    "best_clf.fit(X_1,y_1)"
   ]
  },
  {
   "cell_type": "code",
   "execution_count": null,
   "metadata": {},
   "outputs": [],
   "source": [
    "y_predLR = best_clf.predict(X_test)\n",
    "acc = accuracy_score(y_test,y_predLR)\n",
    "print(acc)"
   ]
  },
  {
   "cell_type": "markdown",
   "metadata": {},
   "source": [
    "## Random forest"
   ]
  },
  {
   "cell_type": "code",
   "execution_count": null,
   "metadata": {},
   "outputs": [],
   "source": [
    "NoEstimators = [50,70,100,130,150,190,230,290,370,450,550,700]\n",
    "trainAcc = []\n",
    "CVAcc = []"
   ]
  },
  {
   "cell_type": "code",
   "execution_count": null,
   "metadata": {},
   "outputs": [],
   "source": [
    "for est in tqdm(NoEstimators):\n",
    "    clfRF = RandomForestClassifier(n_estimators=est, criterion='gini')\n",
    "    clfRF.fit(X_train, y_train)\n",
    "    y_predRFtrain = clfRF.predict(X_train)\n",
    "    y_predRFcv = clfRF.predict(X_cv)\n",
    "    accTr = accuracy_score(y_train, y_predRFtrain)\n",
    "    accCv = accuracy_score(y_cv, y_predRFcv)\n",
    "    trainAcc.append(accTr)\n",
    "    CVAcc.append(accCv) "
   ]
  },
  {
   "cell_type": "code",
   "execution_count": null,
   "metadata": {},
   "outputs": [],
   "source": [
    "plotCVandTrainAccuracyAndError(CVAcc,trainAcc,NoEstimators)"
   ]
  },
  {
   "cell_type": "code",
   "execution_count": null,
   "metadata": {},
   "outputs": [],
   "source": [
    "maxAccuracy = max(CVAcc)\n",
    "maxAccuracy"
   ]
  },
  {
   "cell_type": "code",
   "execution_count": null,
   "metadata": {},
   "outputs": [],
   "source": [
    "clfRF = RandomForestClassifier(n_estimators=370, criterion='gini')\n",
    "clfRF.fit(X_train, y_train)\n",
    "y_predRF = clfRF.predict(X_test)\n",
    "print(\"Final Accuracy RF: \",accuracy_score(y_test,y_predRF))"
   ]
  },
  {
   "cell_type": "markdown",
   "metadata": {},
   "source": [
    "## Decision Tree"
   ]
  },
  {
   "cell_type": "code",
   "execution_count": null,
   "metadata": {},
   "outputs": [],
   "source": [
    "maxDepth = [4,6,8,10,12,15,20,30,50,80, 120]\n",
    "trainAcc = []\n",
    "CVAcc = []\n",
    "for depth in tqdm(maxDepth):\n",
    "    clfDT = DecisionTreeClassifier(criterion='gini',max_depth = depth)\n",
    "    clfDT.fit(X_train, y_train)\n",
    "    y_predDTtrain = clfDT.predict(X_train)\n",
    "    y_predDTcv = clfDT.predict(X_cv)\n",
    "    accTr = accuracy_score(y_train, y_predDTtrain)\n",
    "    accCv = accuracy_score(y_cv, y_predDTcv)\n",
    "    trainAcc.append(accTr)\n",
    "    CVAcc.append(accCv)    "
   ]
  },
  {
   "cell_type": "code",
   "execution_count": null,
   "metadata": {},
   "outputs": [],
   "source": [
    "print(trainAcc)\n",
    "print(CVAcc)"
   ]
  },
  {
   "cell_type": "code",
   "execution_count": null,
   "metadata": {},
   "outputs": [],
   "source": [
    "def plotCVandTrainAccuracyAndError(CVAcc,trainAcc,maxDepth):\n",
    "    fig = plt.figure(figsize = (10,5))\n",
    "    ax = plt.subplot(1,2,1)\n",
    "    ax.set_xlabel('Maximum Depth', fontsize = 10)\n",
    "    ax.set_ylabel('Accuracy', fontsize = 10)\n",
    "    ax.set_title('Check fitting of model', fontsize = 10)\n",
    "    \n",
    "    plt.plot(maxDepth,CVAcc,label='CV Accuracy')\n",
    "    plt.plot(maxDepth,trainAcc,label='train Accuracy')\n",
    "    ax.legend()\n",
    "    \n",
    "    trainError = [1-x for x in trainAcc]\n",
    "    CVError    = [1-x for x in CVAcc]\n",
    "    ax = plt.subplot(1,2,2)\n",
    "    ax.set_xlabel('Maximum Depth', fontsize = 10)\n",
    "    ax.set_ylabel('Error', fontsize = 10)\n",
    "    ax.set_title('Check fitting of model', fontsize = 10)\n",
    "    \n",
    "    plt.plot(maxDepth,CVError,label='CV Error')\n",
    "    plt.plot(maxDepth,trainError,label='train Error')\n",
    "    ax.legend()"
   ]
  },
  {
   "cell_type": "code",
   "execution_count": null,
   "metadata": {},
   "outputs": [],
   "source": [
    "plotCVandTrainAccuracyAndError(CVAcc,trainAcc,maxDepth)"
   ]
  },
  {
   "cell_type": "code",
   "execution_count": null,
   "metadata": {},
   "outputs": [],
   "source": [
    "clfDT = clfDT = DecisionTreeClassifier(criterion='gini',max_depth = 15)\n",
    "clfDT.fit(X_train, y_train)\n",
    "y_pred = clfDT.predict(X_test)\n",
    "\n",
    "print(\"Final Accuracy DT: \",accuracy_score(y_test,y_pred))"
   ]
  },
  {
   "cell_type": "code",
   "execution_count": null,
   "metadata": {},
   "outputs": [],
   "source": []
  },
  {
   "cell_type": "markdown",
   "metadata": {},
   "source": [
    "## Bagging"
   ]
  },
  {
   "cell_type": "code",
   "execution_count": null,
   "metadata": {},
   "outputs": [],
   "source": [
    "from sklearn import tree\n",
    "clftree=tree.DecisionTreeClassifier()"
   ]
  },
  {
   "cell_type": "code",
   "execution_count": null,
   "metadata": {},
   "outputs": [],
   "source": [
    "from sklearn.ensemble import BaggingClassifier"
   ]
  },
  {
   "cell_type": "code",
   "execution_count": null,
   "metadata": {},
   "outputs": [],
   "source": [
    "bag_clf=BaggingClassifier(base_estimator=clftree, n_estimators=100,bootstrap=True,n_jobs=-1,random_state=30)\n"
   ]
  },
  {
   "cell_type": "code",
   "execution_count": null,
   "metadata": {},
   "outputs": [],
   "source": [
    "bag_clf.fit(x_train,y_train)"
   ]
  },
  {
   "cell_type": "code",
   "execution_count": null,
   "metadata": {},
   "outputs": [],
   "source": [
    "confusion_matrix(y_test,bag_clf.predict(x_test))"
   ]
  },
  {
   "cell_type": "code",
   "execution_count": null,
   "metadata": {},
   "outputs": [],
   "source": [
    "accuracy_score(y_test,bag_clf.predict(x_test))"
   ]
  },
  {
   "cell_type": "markdown",
   "metadata": {},
   "source": [
    "## Boostinng"
   ]
  },
  {
   "cell_type": "code",
   "execution_count": null,
   "metadata": {},
   "outputs": [],
   "source": [
    "etaVals = [0.1,0.3,0.5,0.6,0.8,0.9] # Shrinkage parameter as hyperparameter\n",
    "#max_depth parameter we are changing as we know increasing this value may turn model into overfit\n",
    "trainAcc = []\n",
    "CVAcc = []\n",
    "for e in etaVals:\n",
    "    model = XGBClassifier(eta = e, nthread = 2)\n",
    "    model.fit(X_train,y_train)\n",
    "    y_predXGtrain = model.predict(X_train)\n",
    "    y_predXGcv = model.predict(X_cv)\n",
    "    accTr = accuracy_score(y_train, y_predXGtrain)\n",
    "    accCv = accuracy_score(y_cv, y_predXGcv)\n",
    "    trainAcc.append(accTr)\n",
    "    CVAcc.append(accCv)     "
   ]
  },
  {
   "cell_type": "code",
   "execution_count": null,
   "metadata": {},
   "outputs": [],
   "source": [
    "plotCVandTrainAccuracyAndError(CVAcc,trainAcc,etaVals)"
   ]
  },
  {
   "cell_type": "code",
   "execution_count": null,
   "metadata": {},
   "outputs": [],
   "source": [
    "def plotTestandTrainAccuracyAndError(TestAcc,trainAcc,maxDepth):\n",
    "    fig = plt.figure(figsize = (10,5))\n",
    "    ax = plt.subplot(1,2,1)\n",
    "    ax.set_xlabel('Maximum Depth', fontsize = 10)\n",
    "    ax.set_ylabel('Accuracy', fontsize = 10)\n",
    "    ax.set_title('Check fitting of model', fontsize = 10)\n",
    "    \n",
    "    plt.plot(maxDepth,TestAcc,label='Test Accuracy')\n",
    "    plt.plot(maxDepth,trainAcc,label='train Accuracy')\n",
    "    ax.legend()\n",
    "    \n",
    "    trainError = [1-x for x in trainAcc]\n",
    "    TestError    = [1-x for x in TestAcc]\n",
    "    ax = plt.subplot(1,2,2)\n",
    "    ax.set_xlabel('Maximum Depth', fontsize = 10)\n",
    "    ax.set_ylabel('Error', fontsize = 10)\n",
    "    ax.set_title('Check fitting of model', fontsize = 10)\n",
    "    \n",
    "    plt.plot(maxDepth,TestError,label='Test Error')\n",
    "    plt.plot(maxDepth,trainError,label='train Error')\n",
    "    ax.legend()"
   ]
  },
  {
   "cell_type": "code",
   "execution_count": null,
   "metadata": {},
   "outputs": [],
   "source": [
    "TestAcc = []\n",
    "for e in tqdm(etaVals):\n",
    "    model = XGBClassifier(eta = e, nthread = 2)\n",
    "    model.fit(X_train,y_train)\n",
    "    y_predXGTest = model.predict(X_test)\n",
    "    accTest = accuracy_score(y_test, y_predXGTest)\n",
    "    TestAcc.append(accTest)\n",
    "\n",
    "plotTestandTrainAccuracyAndError(TestAcc,trainAcc,etaVals)"
   ]
  },
  {
   "cell_type": "markdown",
   "metadata": {},
   "source": [
    "## one-hot encoder"
   ]
  },
  {
   "cell_type": "code",
   "execution_count": null,
   "metadata": {},
   "outputs": [],
   "source": [
    "maxmin = MinMaxScaler()\n",
    "dummies = pd.get_dummies(gdata[gdata.columns.difference([\"y\"])])\n",
    "x = maxmin.fit_transform(dummies)\n",
    "y = gdata[\"y\"]\n",
    "\n",
    "print(x.shape)\n",
    "print(y.shape)"
   ]
  }
 ],
 "metadata": {
  "kernelspec": {
   "display_name": "Python 3",
   "language": "python",
   "name": "python3"
  },
  "language_info": {
   "codemirror_mode": {
    "name": "ipython",
    "version": 3
   },
   "file_extension": ".py",
   "mimetype": "text/x-python",
   "name": "python",
   "nbconvert_exporter": "python",
   "pygments_lexer": "ipython3",
   "version": "3.8.3"
  }
 },
 "nbformat": 4,
 "nbformat_minor": 4
}
